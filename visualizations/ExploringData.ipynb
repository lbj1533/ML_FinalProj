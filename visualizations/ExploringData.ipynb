{
 "cells": [
  {
   "cell_type": "markdown",
   "id": "002db7e7-3a84-42a2-a832-0dfa69c92f04",
   "metadata": {},
   "source": [
    "# Exploring Data"
   ]
  },
  {
   "cell_type": "markdown",
   "id": "53a8af54-6d4f-4e72-8b9e-634a1956675c",
   "metadata": {},
   "source": [
    "## Setup"
   ]
  },
  {
   "cell_type": "markdown",
   "id": "c6ddbc2e-7d4a-4674-be77-a548a6e1ede6",
   "metadata": {},
   "source": [
    "This file will contain a number of small visualizations and examples to explore the data. This first section will contain the code to setup the following visualizations."
   ]
  },
  {
   "cell_type": "code",
   "execution_count": 2,
   "id": "2e5ccd13-feb9-4444-9872-b4311bcb8713",
   "metadata": {},
   "outputs": [],
   "source": [
    "# importing libraries\n",
    "\n",
    "import os\n",
    "import pandas as pd\n",
    "import glob\n",
    "\n",
    "import matplotlib.pyplot as plt"
   ]
  },
  {
   "cell_type": "code",
   "execution_count": 9,
   "id": "78cdf868-190b-469e-b71f-e917211dce8d",
   "metadata": {},
   "outputs": [
    {
     "data": {
      "text/html": [
       "<div>\n",
       "<style scoped>\n",
       "    .dataframe tbody tr th:only-of-type {\n",
       "        vertical-align: middle;\n",
       "    }\n",
       "\n",
       "    .dataframe tbody tr th {\n",
       "        vertical-align: top;\n",
       "    }\n",
       "\n",
       "    .dataframe thead th {\n",
       "        text-align: right;\n",
       "    }\n",
       "</style>\n",
       "<table border=\"1\" class=\"dataframe\">\n",
       "  <thead>\n",
       "    <tr style=\"text-align: right;\">\n",
       "      <th></th>\n",
       "      <th>Album</th>\n",
       "      <th>Album URL</th>\n",
       "      <th>Artist</th>\n",
       "      <th>Featured Artists</th>\n",
       "      <th>Lyrics</th>\n",
       "      <th>Media</th>\n",
       "      <th>Rank</th>\n",
       "      <th>Release Date</th>\n",
       "      <th>Song Title</th>\n",
       "      <th>Song URL</th>\n",
       "      <th>Writers</th>\n",
       "      <th>Year</th>\n",
       "      <th>Verbs</th>\n",
       "      <th>Nouns</th>\n",
       "      <th>Adverbs</th>\n",
       "      <th>Corpus</th>\n",
       "      <th>Word Counts</th>\n",
       "      <th>Unique Word Counts</th>\n",
       "    </tr>\n",
       "  </thead>\n",
       "  <tbody>\n",
       "  </tbody>\n",
       "</table>\n",
       "</div>"
      ],
      "text/plain": [
       "Empty DataFrame\n",
       "Columns: [Album, Album URL, Artist, Featured Artists, Lyrics, Media, Rank, Release Date, Song Title, Song URL, Writers, Year, Verbs, Nouns, Adverbs, Corpus, Word Counts, Unique Word Counts]\n",
       "Index: []"
      ]
     },
     "execution_count": 9,
     "metadata": {},
     "output_type": "execute_result"
    }
   ],
   "source": [
    "# loading data and showing first 3 rows\n",
    "\n",
    "data_folder = \"../data/raw/\"\n",
    "file = data_folder + \"all_songs_data_processed.csv\"\n",
    "\n",
    "# concat all csvs into one dataframe\n",
    "df_list = [pd.read_csv(file)]\n",
    "df = pd.concat(df_list, ignore_index=True)\n",
    "# see first row\n",
    "df.tail(0)"
   ]
  },
  {
   "cell_type": "code",
   "execution_count": 10,
   "id": "4f9062c6",
   "metadata": {},
   "outputs": [],
   "source": [
    "import re\n",
    "\n",
    "# List of known bands with \"and\" or \"&\" in their name\n",
    "known_band_names = [\"Florence and the Machine\", \"Earth, Wind & Fire\", \"Simon & Garfunkel\"]\n",
    "\n",
    "def preprocess_artists(df):\n",
    "    \"\"\"\n",
    "    Preprocess the Artist and Featured Artists columns in the dataframe.\n",
    "\n",
    "    Args:\n",
    "        df (pd.DataFrame): Input dataframe with 'Artist' and 'Featured Artists' columns.\n",
    "\n",
    "    Returns:\n",
    "        pd.DataFrame: Updated dataframe with cleaned 'Artist' and 'Featured Artists' columns.\n",
    "    \"\"\"\n",
    "    def clean_artist_feature(row):\n",
    "        artist = row['Artist']\n",
    "        features = row['Featured Artists']\n",
    "\n",
    "        # Check if the artist is a known band, if so, leave it as-is\n",
    "        if artist in known_band_names:\n",
    "            return artist, features\n",
    "\n",
    "        # Regular expression to extract features and standardize artist names\n",
    "        pattern = r'(?i)(?:\\s*[&and]+\\s*|\\s*feat(?:uring)?\\.?\\s*)'\n",
    "        parts = re.split(pattern, artist)\n",
    "\n",
    "        # If there are more than one part, it implies there are featured artists\n",
    "        if len(parts) > 1:\n",
    "            main_artist = parts[0].strip()  # The first part is the main artist\n",
    "            extracted_features = [p.strip() for p in parts[1:] if p.strip()]\n",
    "            # Merge with existing featured artists\n",
    "            if isinstance(features, str) and features.strip():\n",
    "                all_features = extracted_features + eval(features)\n",
    "            else:\n",
    "                all_features = extracted_features\n",
    "            return main_artist, all_features\n",
    "        else:\n",
    "            # No splitting, return the artist as is\n",
    "            return artist.strip(), features\n",
    "\n",
    "    # Apply the cleaning function to each row in the dataframe\n",
    "    df[['Artist', 'Featured Artists']] = df.apply(\n",
    "        lambda row: clean_artist_feature(row), axis=1, result_type=\"expand\"\n",
    "    )\n",
    "\n",
    "    # Normalize featured artists into string format for easier analysis later\n",
    "    df['Featured Artists'] = df['Featured Artists'].apply(lambda x: x if isinstance(x, list) else [])\n",
    "\n",
    "    return df\n",
    "\n"
   ]
  },
  {
   "cell_type": "markdown",
   "id": "8b8e28cc-de96-4555-99a3-842916a78326",
   "metadata": {},
   "source": [
    "The above row shows us the features of the dataset. The dataset consists of the following features: Album, Album URL, Artist, Featured Artists, Lyrics, Media, Rank (on the charts), Release Date, Song Title, Song URL, Writers, Year, Verbs, Nouns, Adverbs, Corpus, Word Counts and Unique Word Counts. The features we intend to drop would be anything that is not a number, a date, or plaintext. This would include: Album URL, Media, Song URL and Writers. The lyrics feature may be superfluous. The date feature will have to be removed as obviously that would gift the model the answer and make the project useless. We will use the year feature as the target variable."
   ]
  },
  {
   "cell_type": "markdown",
   "id": "dc77428b-8dff-4991-8871-02a4fdb32966",
   "metadata": {},
   "source": [
    "## Visualizing length of songs by words."
   ]
  },
  {
   "cell_type": "markdown",
   "id": "2e9f935a-219a-42ed-beb3-3f25fa689d2f",
   "metadata": {},
   "source": [
    "The following will be a visualization of the songs by the length of the lyrics."
   ]
  },
  {
   "cell_type": "code",
   "execution_count": 4,
   "id": "a1f0daf7-9f19-455b-8e59-31345c7d9be6",
   "metadata": {},
   "outputs": [
    {
     "data": {
      "image/png": "[encoded data removed]",
      "text/plain": [
       "<Figure size 720x432 with 1 Axes>"
      ]
     },
     "metadata": {
      "needs_background": "light"
     },
     "output_type": "display_data"
    }
   ],
   "source": [
    "df['word_count'] = df['Lyrics'].apply(lambda lyrics: len(str(lyrics).split()))\n",
    "\n",
    "plt.figure(figsize=(10, 6))\n",
    "plt.hist(df['word_count'], bins=30, color='skyblue', edgecolor='black')\n",
    "plt.title('Histogram of Word Counts in Songs')\n",
    "plt.xlabel('Number of Words')\n",
    "plt.ylabel('Frequency')\n",
    "plt.grid(axis='y', linestyle='--', alpha=0.7)\n",
    "plt.show()\n"
   ]
  },
  {
   "cell_type": "markdown",
   "id": "5e34bb32-d1c5-4ad9-8b3c-0af14328d11a",
   "metadata": {},
   "source": [
    "The above graph shows a right skewed distribution, that peaks at roughly 250 words, with about 950 instances that fall into this bucket."
   ]
  },
  {
   "cell_type": "markdown",
   "id": "34fa1795-ec44-45f9-9701-a6200d14d71d",
   "metadata": {},
   "source": [
    "## Visualizing Length of Songs by Unique Words"
   ]
  },
  {
   "cell_type": "markdown",
   "id": "d4bd2be5-150b-4979-8665-8850fd8d0996",
   "metadata": {},
   "source": [
    "The following will be a similar visualization to the last one, but using unique words instead."
   ]
  },
  {
   "cell_type": "code",
   "execution_count": 5,
   "id": "496c4cd5-23e4-4048-89f8-1a51a908389e",
   "metadata": {},
   "outputs": [
    {
     "data": {
      "image/png": "[encoded data removed]",
      "text/plain": [
       "<Figure size 720x432 with 1 Axes>"
      ]
     },
     "metadata": {
      "needs_background": "light"
     },
     "output_type": "display_data"
    }
   ],
   "source": [
    "plt.figure(figsize=(10, 6))\n",
    "plt.hist(df['Unique Word Counts'], bins=30, color='skyblue', edgecolor='black')\n",
    "plt.title('Histogram of Unique Word Counts in Songs')\n",
    "plt.xlabel('Number of Unique Words')\n",
    "plt.ylabel('Frequency')\n",
    "plt.grid(axis='y', linestyle='--', alpha=0.7)\n",
    "plt.show()"
   ]
  },
  {
   "cell_type": "markdown",
   "id": "11833e11-ee47-4ed5-af47-970217d66ed6",
   "metadata": {},
   "source": [
    "The distribution is again right skewed, but peaks at roughly 100 this time, with a frequency of about 1700. The increase and decrease from this peak is sharper. This and the last visualization show that most songs have roughly the same amount of unique words, but repetition of these words exacerbates any differences."
   ]
  },
  {
   "cell_type": "markdown",
   "id": "1217f080-5c0b-421a-b6b7-ca562cb3b473",
   "metadata": {},
   "source": [
    "## Visualizing Songs by Amount of Repetition"
   ]
  },
  {
   "cell_type": "markdown",
   "id": "c1c6cdd3-6765-462f-ab37-fc3718ce0c55",
   "metadata": {},
   "source": [
    "The following will be a histogram that will visualize the amount of repetition by dividing the amount of words by the number of unique words."
   ]
  },
  {
   "cell_type": "code",
   "execution_count": 6,
   "id": "3261a8f7-8803-4eb9-adba-eef2adf72277",
   "metadata": {},
   "outputs": [
    {
     "data": {
      "image/png": "[encoded data removed]",
      "text/plain": [
       "<Figure size 720x432 with 1 Axes>"
      ]
     },
     "metadata": {
      "needs_background": "light"
     },
     "output_type": "display_data"
    }
   ],
   "source": [
    "plt.figure(figsize=(10, 6))\n",
    "plt.hist(df['Word Counts'] / df['Unique Word Counts'], bins=30, color='skyblue', edgecolor='black')\n",
    "plt.title('Histogram of Amount of Repetition in Songs')\n",
    "plt.xlabel('Ratio of Repetition')\n",
    "plt.ylabel('Frequency')\n",
    "plt.grid(axis='y', linestyle='--', alpha=0.7)\n",
    "plt.show()"
   ]
  },
  {
   "cell_type": "markdown",
   "id": "335fc15e-8d74-44b7-a91d-87ca536fca5c",
   "metadata": {},
   "source": [
    "The above graph shows that the ration of repetition hovers almost always between 1 and 5. The most common ratio of repetition is roughly 2. This means that each word is repeated roughly twice in most songs in the Top 100."
   ]
  }
 ],
 "metadata": {
  "kernelspec": {
   "display_name": "Python 3",
   "language": "python",
   "name": "python3"
  },
  "language_info": {
   "codemirror_mode": {
    "name": "ipython",
    "version": 3
   },
   "file_extension": ".py",
   "mimetype": "text/x-python",
   "name": "python",
   "nbconvert_exporter": "python",
   "pygments_lexer": "ipython3",
   "version": "3.8.8"
  }
 },
 "nbformat": 4,
 "nbformat_minor": 5
}
